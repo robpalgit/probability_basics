{
 "cells": [
  {
   "cell_type": "markdown",
   "metadata": {},
   "source": [
    "# Probability Foundations"
   ]
  },
  {
   "cell_type": "markdown",
   "metadata": {},
   "source": [
    "https://machinelearningmastery.com/joint-marginal-and-conditional-probability-for-machine-learning/"
   ]
  },
  {
   "cell_type": "markdown",
   "metadata": {},
   "source": [
    "## 1. Probability and Machine Learning"
   ]
  },
  {
   "cell_type": "markdown",
   "metadata": {},
   "source": [
    "### There are three main sources of uncertainty in machine learning; they are:\n",
    "    \n",
    "* **Noise in observations**, e.g. measurement errors and random noise.\n",
    "\n",
    "* **Incomplete coverage of the domain**, e.g. you can never observe all data.\n",
    "\n",
    "* **Imperfect model of the problem**, e.g. all models have errors, some are useful."
   ]
  },
  {
   "cell_type": "markdown",
   "metadata": {},
   "source": [
    "### Uncertainty in applied machine learning is managed using probability.\n",
    "\n",
    "* Probability and statistics help us to understand and quantify the **expected value and variability of variables** in our observations from the domain.\n",
    "\n",
    "* Probability helps to understand and quantify the **expected distribution and density of observations** in the domain.\n",
    "\n",
    "* Probability helps to understand and quantify the **expected capability and variance in performance of our predictive models** when applied to new data."
   ]
  },
  {
   "cell_type": "markdown",
   "metadata": {},
   "source": [
    "## 2. Joint, Marginal, and Conditional Probability"
   ]
  },
  {
   "cell_type": "markdown",
   "metadata": {},
   "source": [
    "**Joint Probability**: The probability of simultaneous events.\n",
    "\n",
    "* P(A and B) = P(A given B) * P(B)\n",
    "\n",
    "**Marginal Probability**: The probability of an event irrespective of the other variables.\n",
    "\n",
    "* P(X=A) = sum P(X=A, Y=yi) for all y\n",
    "\n",
    "**Conditional Probability**: The probability of an event given the presence of another event.\n",
    "\n",
    "* P(A given B) = P(A | B) = P(A and B) / P(B) \n",
    "    \n",
    "    assuming P(B) =/= 0"
   ]
  },
  {
   "cell_type": "markdown",
   "metadata": {},
   "source": [
    "These types of probability form the basis of much of predictive modeling with problems such as **classification and regression**. For example:\n",
    "\n",
    "* The probability of a row of data is the **joint probability** across each input variable.\n",
    "\n",
    "* The probability of a specific value of one input variable is the **marginal probability** across the values of the other input variables.\n",
    "\n",
    "* The predictive model itself is an estimate of the **conditional probability** of an output given an input example.\n"
   ]
  },
  {
   "cell_type": "markdown",
   "metadata": {},
   "source": [
    "Some additional notes:\n",
    "\n",
    "* The calculation of the **joint probability** is sometimes called the fundamental rule of probability or the **“product rule” of probability** or the **“chain rule”** of probability. For example:\n",
    "\n",
    "    **P(A1 and A2 and A3 and A4) = P(A4 | A3 and A2 and A1) * P(A3 | A2 and A1) * P(A2 | A1) * P(A1)**\n",
    "    \n",
    "\n",
    "* The **joint probability is symmetrical**, meaning that **P(A and B) is the same as P(B and A)**. The calculation using the conditional probability is also symmetrical, for example:\n",
    "\n",
    "    **P(A and B) = P(A given B) * P(B) = P(B given A) * P(A)**\n",
    "    \n",
    "\n",
    "* The **marginal probability** is another important foundational rule in probability, referred to as the **“sum rule”**."
   ]
  },
  {
   "cell_type": "markdown",
   "metadata": {},
   "source": [
    "## 3. Probability of Independence and Exclusivity"
   ]
  },
  {
   "cell_type": "markdown",
   "metadata": {},
   "source": [
    "### Independence\n",
    "\n",
    "If one variable is not dependent on a second variable, this is called **independence or statistical independence**."
   ]
  },
  {
   "cell_type": "markdown",
   "metadata": {},
   "source": [
    "**Joint Probability for independent events**\n",
    "\n",
    "* P(A and B) = P(A) * P(B)\n",
    "\n",
    "**Marginal Probability for an independent event**\n",
    "\n",
    "* P(A)\n",
    "\n",
    "**Conditional Probability for independent events**\n",
    "\n",
    "* P(A given B) = P(A)\n",
    "\n",
    "    (probability of B has no effect)"
   ]
  },
  {
   "cell_type": "markdown",
   "metadata": {},
   "source": [
    "We may be familiar with the notion of **statistical independence** from **sampling**. This assumes that one sample is unaffected by prior samples and does not affect future samples.\n",
    "\n",
    "Many machine learning algorithms assume that samples from a domain are independent to each other and come from the same probability distribution, referred to as **independent and identically distributed, or i.i.d. for short**."
   ]
  },
  {
   "cell_type": "markdown",
   "metadata": {},
   "source": [
    "### Exclusivity\n",
    "\n",
    "If the occurrence of one event excludes the occurrence of other events, then the events are said to be **mutually exclusive**."
   ]
  },
  {
   "cell_type": "markdown",
   "metadata": {},
   "source": [
    "**Joint Probability for mutually exclusive events**\n",
    "\n",
    "* P(A and B) = 0.0\n",
    "\n",
    "**Probability of mutually exclusive events**\n",
    "\n",
    "* P(A or B) = P(A U B) = P(A) + P(B)\n",
    "\n",
    "**Probability of non-mutually exclusive events**\n",
    "\n",
    "* P(A or B) = P(A) + P(B) – P(A and B)"
   ]
  },
  {
   "cell_type": "code",
   "execution_count": null,
   "metadata": {},
   "outputs": [],
   "source": []
  }
 ],
 "metadata": {
  "kernelspec": {
   "display_name": "Python 3",
   "language": "python",
   "name": "python3"
  },
  "language_info": {
   "codemirror_mode": {
    "name": "ipython",
    "version": 3
   },
   "file_extension": ".py",
   "mimetype": "text/x-python",
   "name": "python",
   "nbconvert_exporter": "python",
   "pygments_lexer": "ipython3",
   "version": "3.7.3"
  }
 },
 "nbformat": 4,
 "nbformat_minor": 4
}
