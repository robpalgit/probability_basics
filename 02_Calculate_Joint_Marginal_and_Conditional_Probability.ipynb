{
 "cells": [
  {
   "cell_type": "markdown",
   "metadata": {},
   "source": [
    "# Developing an Intuition for Joint, Marginal, and Conditional Probability"
   ]
  },
  {
   "cell_type": "markdown",
   "metadata": {},
   "source": [
    "https://machinelearningmastery.com/how-to-calculate-joint-marginal-and-conditional-probability/"
   ]
  },
  {
   "cell_type": "markdown",
   "metadata": {},
   "source": [
    "## 1. Probabilities of Rolling Two Dice (Independent variables)"
   ]
  },
  {
   "cell_type": "markdown",
   "metadata": {},
   "source": [
    "The roll of a fair die gives a one in six (1/6) or 0.166 (16.666%) probability of a number 1 to 6 coming up.\n",
    "\n",
    "* P(dice1=1) = 1/6\n",
    "* P(dice1=2) = 1/6\n",
    "* P(dice1=3) = 1/6\n",
    "* P(dice1=4) = 1/6\n",
    "* P(dice1=5) = 1/6\n",
    "* P(dice1=6) = 1/6\n",
    "\n",
    "If we roll a second die, we get the same probability of each value on that die. Each event for a die has an equal probability and the rolls of dice1 and dice2 do not affect each other.\n",
    "\n",
    "* P(dice1={1,2,3,4,5,6}) = 1.0\n",
    "* P(dice2={1,2,3,4,5,6}) = 1.0\n",
    "\n",
    "Probability of rolling an even number for dice1\n",
    "\n",
    "* P(dice1={2, 4, 6}) = P(dice1=2) + P(dice1=4) + P(dice1=6)\n",
    "* P(dice1={2, 4, 6}) = 1/6 + 1/6 + 1/6 = **0.5**\n",
    "\n",
    "Joint probability of rolling an even number with both dice simultaneously\n",
    "\n",
    "* P(dice1={2, 4, 6} and dice2={2, 4, 6}) = P(dice1={2, 4, 6}) * P(dice2={2, 4, 6}) = 0.5 * 0.5 = **0.25**\n",
    "\n",
    "**Tip:** If you are ever in doubt of your probability calculations when working with independent variables with discrete events, think in terms of **combinations** and things will make sense again."
   ]
  },
  {
   "cell_type": "markdown",
   "metadata": {},
   "source": [
    "### Table of joint probabilities"
   ]
  },
  {
   "cell_type": "code",
   "execution_count": 5,
   "metadata": {},
   "outputs": [
    {
     "name": "stdout",
     "output_type": "stream",
     "text": [
      "          1         2         3         4         5         6\n",
      "1  0.027778  0.027778  0.027778  0.027778  0.027778  0.027778\n",
      "2  0.027778  0.027778  0.027778  0.027778  0.027778  0.027778\n",
      "3  0.027778  0.027778  0.027778  0.027778  0.027778  0.027778\n",
      "4  0.027778  0.027778  0.027778  0.027778  0.027778  0.027778\n",
      "5  0.027778  0.027778  0.027778  0.027778  0.027778  0.027778\n",
      "6  0.027778  0.027778  0.027778  0.027778  0.027778  0.027778\n"
     ]
    }
   ],
   "source": [
    "import numpy as np\n",
    "import pandas as pd\n",
    "\n",
    "dice_values = [1,2,3,4,5,6]\n",
    "proba = 1/len(dice_values)**2\n",
    "\n",
    "table = np.full((6, 6), proba)\n",
    "table = pd.DataFrame(data=table, index=dice_values, columns=dice_values)\n",
    "print(table)"
   ]
  },
  {
   "cell_type": "markdown",
   "metadata": {},
   "source": [
    "**Example: joint probability of rolling a 2 with dice1 and rolling an odd number with dice2**.\n",
    "\n",
    "* P(dice1=2, dice2={1,3,5}) = 0.027 + 0.027 + 0.027 = **0.083**"
   ]
  },
  {
   "cell_type": "code",
   "execution_count": 7,
   "metadata": {},
   "outputs": [
    {
     "data": {
      "text/plain": [
       "0.08333333333333333"
      ]
     },
     "execution_count": 7,
     "metadata": {},
     "output_type": "execute_result"
    }
   ],
   "source": [
    "3 * proba"
   ]
  },
  {
   "cell_type": "markdown",
   "metadata": {},
   "source": [
    "### Marginal probability"
   ]
  },
  {
   "cell_type": "markdown",
   "metadata": {},
   "source": [
    "**Marginal probability of rolling a 6 with dice 2:**"
   ]
  },
  {
   "cell_type": "code",
   "execution_count": 30,
   "metadata": {},
   "outputs": [
    {
     "data": {
      "text/plain": [
       "0.16666666666666669"
      ]
     },
     "execution_count": 30,
     "metadata": {},
     "output_type": "execute_result"
    }
   ],
   "source": [
    "table.loc[6,:].sum()"
   ]
  },
  {
   "cell_type": "markdown",
   "metadata": {},
   "source": [
    "**All marginal probabilities for dice 1:**"
   ]
  },
  {
   "cell_type": "code",
   "execution_count": 21,
   "metadata": {},
   "outputs": [
    {
     "data": {
      "text/plain": [
       "1    0.166667\n",
       "2    0.166667\n",
       "3    0.166667\n",
       "4    0.166667\n",
       "5    0.166667\n",
       "6    0.166667\n",
       "dtype: float64"
      ]
     },
     "execution_count": 21,
     "metadata": {},
     "output_type": "execute_result"
    }
   ],
   "source": [
    "table.sum(axis=0)"
   ]
  },
  {
   "cell_type": "markdown",
   "metadata": {},
   "source": [
    "**All marginal probabilities for dice 2:**"
   ]
  },
  {
   "cell_type": "code",
   "execution_count": 22,
   "metadata": {},
   "outputs": [
    {
     "data": {
      "text/plain": [
       "1    0.166667\n",
       "2    0.166667\n",
       "3    0.166667\n",
       "4    0.166667\n",
       "5    0.166667\n",
       "6    0.166667\n",
       "dtype: float64"
      ]
     },
     "execution_count": 22,
     "metadata": {},
     "output_type": "execute_result"
    }
   ],
   "source": [
    "table.sum(axis=1)"
   ]
  },
  {
   "cell_type": "markdown",
   "metadata": {},
   "source": [
    "**Importantly, if we sum the probabilities for all cells in the table, it must equal 1.0.**\n",
    "\n",
    "Additionally, if we sum the probabilities for each row, then the sum of these sums must equal 1.0. The same if we sum the probabilities in each column, then the sum of these sums too must equal 1.0. This is a requirement for a table of joint probabilities."
   ]
  },
  {
   "cell_type": "code",
   "execution_count": 16,
   "metadata": {},
   "outputs": [
    {
     "data": {
      "text/plain": [
       "1.0000000000000002"
      ]
     },
     "execution_count": 16,
     "metadata": {},
     "output_type": "execute_result"
    }
   ],
   "source": [
    "table.sum().sum()"
   ]
  },
  {
   "cell_type": "markdown",
   "metadata": {},
   "source": [
    "### Conditional probability"
   ]
  },
  {
   "cell_type": "markdown",
   "metadata": {},
   "source": [
    "Because the events are independent, there is nothing special needed to calculate conditional probabilities:\n",
    "\n",
    "* P(A given B) = P(A)\n",
    "\n",
    "In this way, conditional probability does not have a useful meaning for independent random variables."
   ]
  },
  {
   "cell_type": "markdown",
   "metadata": {},
   "source": [
    "## 2. Probabilities of Weather in Two Cities (Dependent variables)"
   ]
  },
  {
   "cell_type": "markdown",
   "metadata": {},
   "source": [
    "### Table of joint probabilities"
   ]
  },
  {
   "cell_type": "code",
   "execution_count": 17,
   "metadata": {},
   "outputs": [
    {
     "name": "stdout",
     "output_type": "stream",
     "text": [
      "        Sunny  Cloudy  Rainy\n",
      "Sunny    0.30    0.10   0.00\n",
      "Cloudy   0.05    0.25   0.10\n",
      "Rainy    0.00    0.05   0.15\n"
     ]
    }
   ],
   "source": [
    "weather_types = [\n",
    "    \"Sunny\",\n",
    "    \"Cloudy\",\n",
    "    \"Rainy\"\n",
    "]\n",
    "\n",
    "weather_data = [\n",
    "    [6/20, 2/20, 0/20],\n",
    "    [1/20, 5/20, 2/20],\n",
    "    [0/20, 1/20, 3/20]\n",
    "]\n",
    "\n",
    "weather_table = pd.DataFrame(data=weather_data, index=weather_types, columns=weather_types)\n",
    "print(weather_table)"
   ]
  },
  {
   "cell_type": "code",
   "execution_count": 18,
   "metadata": {},
   "outputs": [
    {
     "data": {
      "text/plain": [
       "1.0"
      ]
     },
     "execution_count": 18,
     "metadata": {},
     "output_type": "execute_result"
    }
   ],
   "source": [
    "weather_table.sum().sum()"
   ]
  },
  {
   "cell_type": "markdown",
   "metadata": {},
   "source": [
    "### Marginal probability"
   ]
  },
  {
   "cell_type": "markdown",
   "metadata": {},
   "source": [
    "#### All marginal probabilities for city 1"
   ]
  },
  {
   "cell_type": "code",
   "execution_count": 19,
   "metadata": {},
   "outputs": [
    {
     "data": {
      "text/plain": [
       "Sunny     0.35\n",
       "Cloudy    0.40\n",
       "Rainy     0.25\n",
       "dtype: float64"
      ]
     },
     "execution_count": 19,
     "metadata": {},
     "output_type": "execute_result"
    }
   ],
   "source": [
    "weather_table.sum(axis=0)"
   ]
  },
  {
   "cell_type": "markdown",
   "metadata": {},
   "source": [
    "#### All marginal probabilities for city 2"
   ]
  },
  {
   "cell_type": "code",
   "execution_count": 20,
   "metadata": {},
   "outputs": [
    {
     "data": {
      "text/plain": [
       "Sunny     0.4\n",
       "Cloudy    0.4\n",
       "Rainy     0.2\n",
       "dtype: float64"
      ]
     },
     "execution_count": 20,
     "metadata": {},
     "output_type": "execute_result"
    }
   ],
   "source": [
    "weather_table.sum(axis=1)"
   ]
  },
  {
   "cell_type": "markdown",
   "metadata": {},
   "source": [
    "### Conditional probability"
   ]
  },
  {
   "cell_type": "markdown",
   "metadata": {},
   "source": [
    "**Example 1 - Calculate the probability of it being sunny in city1, given that it is sunny in city2:**\n",
    "\n",
    "* P(city1=sunny given city2=sunny) = P(city1=sunny and city2=sunny) / P(city2=sunny) = 0.3 / 0.4"
   ]
  },
  {
   "cell_type": "code",
   "execution_count": 35,
   "metadata": {},
   "outputs": [
    {
     "data": {
      "text/plain": [
       "0.7499999999999999"
      ]
     },
     "execution_count": 35,
     "metadata": {},
     "output_type": "execute_result"
    }
   ],
   "source": [
    "weather_table.loc[\"Sunny\", \"Sunny\"] / weather_table.loc[\"Sunny\", :].sum()"
   ]
  },
  {
   "cell_type": "markdown",
   "metadata": {},
   "source": [
    "**An important aspect of conditional probability that is often misunderstood is that it is not reversible.**\n",
    "\n",
    "**Example 2 - Calculate the probability of it being sunny in city2 given that it is sunny in city1:**\n",
    "\n",
    "* P(city2=sunny given city1=sunny) = P(city2=sunny and city1=sunny) / P(city1=sunny) = 0.3 / 0.35"
   ]
  },
  {
   "cell_type": "code",
   "execution_count": 36,
   "metadata": {},
   "outputs": [
    {
     "data": {
      "text/plain": [
       "0.8571428571428572"
      ]
     },
     "execution_count": 36,
     "metadata": {},
     "output_type": "execute_result"
    }
   ],
   "source": [
    "weather_table.loc[\"Sunny\", \"Sunny\"] / weather_table.loc[:,\"Sunny\"].sum()"
   ]
  },
  {
   "cell_type": "code",
   "execution_count": null,
   "metadata": {},
   "outputs": [],
   "source": []
  }
 ],
 "metadata": {
  "kernelspec": {
   "display_name": "Python 3",
   "language": "python",
   "name": "python3"
  },
  "language_info": {
   "codemirror_mode": {
    "name": "ipython",
    "version": 3
   },
   "file_extension": ".py",
   "mimetype": "text/x-python",
   "name": "python",
   "nbconvert_exporter": "python",
   "pygments_lexer": "ipython3",
   "version": "3.7.3"
  }
 },
 "nbformat": 4,
 "nbformat_minor": 4
}
