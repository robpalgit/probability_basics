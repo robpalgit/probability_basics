{
 "cells": [
  {
   "cell_type": "markdown",
   "metadata": {},
   "source": [
    "# Developing an Intuition for Probability With Worked Examples"
   ]
  },
  {
   "cell_type": "markdown",
   "metadata": {},
   "source": [
    "https://machinelearningmastery.com/how-to-develop-an-intuition-for-probability-with-worked-examples/"
   ]
  },
  {
   "cell_type": "code",
   "execution_count": 1,
   "metadata": {},
   "outputs": [],
   "source": [
    "from pandas import DataFrame\n",
    "import matplotlib.pyplot as plt\n",
    "plt.style.use('bmh')"
   ]
  },
  {
   "cell_type": "markdown",
   "metadata": {},
   "source": [
    "## 1. Birthday Problem"
   ]
  },
  {
   "cell_type": "markdown",
   "metadata": {},
   "source": [
    "**Problem:** How many people are required so that any two people in the group have the same birthday with at least a 50-50 chance?"
   ]
  },
  {
   "cell_type": "markdown",
   "metadata": {},
   "source": [
    "**Example - calculating the probability of no matching birthdays with a group size of three:**\n",
    "\n",
    "* P(n=3) = 365/365 * 364/365 * 363/365\n",
    "* P(n=3) = 99.18%"
   ]
  },
  {
   "cell_type": "markdown",
   "metadata": {},
   "source": [
    "#### Solution:"
   ]
  },
  {
   "cell_type": "code",
   "execution_count": 2,
   "metadata": {},
   "outputs": [
    {
     "name": "stdout",
     "output_type": "stream",
     "text": [
      "n=2, 364/365, p=99.726 1-p=0.274\n",
      "n=3, 363/365, p=99.180 1-p=0.820\n",
      "n=4, 362/365, p=98.364 1-p=1.636\n",
      "n=5, 361/365, p=97.286 1-p=2.714\n",
      "n=6, 360/365, p=95.954 1-p=4.046\n",
      "n=7, 359/365, p=94.376 1-p=5.624\n",
      "n=8, 358/365, p=92.566 1-p=7.434\n",
      "n=9, 357/365, p=90.538 1-p=9.462\n",
      "n=10, 356/365, p=88.305 1-p=11.695\n",
      "n=11, 355/365, p=85.886 1-p=14.114\n",
      "n=12, 354/365, p=83.298 1-p=16.702\n",
      "n=13, 353/365, p=80.559 1-p=19.441\n",
      "n=14, 352/365, p=77.690 1-p=22.310\n",
      "n=15, 351/365, p=74.710 1-p=25.290\n",
      "n=16, 350/365, p=71.640 1-p=28.360\n",
      "n=17, 349/365, p=68.499 1-p=31.501\n",
      "n=18, 348/365, p=65.309 1-p=34.691\n",
      "n=19, 347/365, p=62.088 1-p=37.912\n",
      "n=20, 346/365, p=58.856 1-p=41.144\n",
      "n=21, 345/365, p=55.631 1-p=44.369\n",
      "n=22, 344/365, p=52.430 1-p=47.570\n",
      "n=23, 343/365, p=49.270 1-p=50.730\n",
      "n=24, 342/365, p=46.166 1-p=53.834\n",
      "n=25, 341/365, p=43.130 1-p=56.870\n",
      "n=26, 340/365, p=40.176 1-p=59.824\n",
      "n=27, 339/365, p=37.314 1-p=62.686\n",
      "n=28, 338/365, p=34.554 1-p=65.446\n",
      "n=29, 337/365, p=31.903 1-p=68.097\n",
      "n=30, 336/365, p=29.368 1-p=70.632\n"
     ]
    },
    {
     "data": {
      "image/png": "[encoded data removed]",
      "text/plain": [
       "<Figure size 432x288 with 1 Axes>"
      ]
     },
     "metadata": {
      "needs_background": "light"
     },
     "output_type": "display_data"
    }
   ],
   "source": [
    "# group size\n",
    "n = 30\n",
    "# number of days in the year\n",
    "days = 365\n",
    "# calculate probability for different group sizes\n",
    "p = days / days #1.0\n",
    "proba_list = []\n",
    "for i in range(1, n):\n",
    "    av = days - i\n",
    "    p *= av / days\n",
    "    proba = (1-p)*100\n",
    "    proba_list.append(proba)\n",
    "    print('n=%d, %d/%d, p=%.3f 1-p=%.3f' % (i+1, av, days, p*100, (1-p)*100))\n",
    "    \n",
    "# Plot\n",
    "plt.plot(range(2, n+1), proba_list)\n",
    "plt.show()"
   ]
  },
  {
   "cell_type": "markdown",
   "metadata": {},
   "source": [
    "#### Answer: n=23, 343/365, p=49.270 1-p=50.730"
   ]
  },
  {
   "cell_type": "markdown",
   "metadata": {},
   "source": [
    "## 2. Boy or Girl Problem"
   ]
  },
  {
   "cell_type": "code",
   "execution_count": 3,
   "metadata": {},
   "outputs": [
    {
     "data": {
      "text/html": [
       "<div>\n",
       "<style scoped>\n",
       "    .dataframe tbody tr th:only-of-type {\n",
       "        vertical-align: middle;\n",
       "    }\n",
       "\n",
       "    .dataframe tbody tr th {\n",
       "        vertical-align: top;\n",
       "    }\n",
       "\n",
       "    .dataframe thead th {\n",
       "        text-align: right;\n",
       "    }\n",
       "</style>\n",
       "<table border=\"1\" class=\"dataframe\">\n",
       "  <thead>\n",
       "    <tr style=\"text-align: right;\">\n",
       "      <th></th>\n",
       "      <th>Younger Child</th>\n",
       "      <th>Older Child</th>\n",
       "      <th>Unconditional Probability</th>\n",
       "    </tr>\n",
       "  </thead>\n",
       "  <tbody>\n",
       "    <tr>\n",
       "      <th>0</th>\n",
       "      <td>Girl</td>\n",
       "      <td>Boy</td>\n",
       "      <td>0.25</td>\n",
       "    </tr>\n",
       "    <tr>\n",
       "      <th>1</th>\n",
       "      <td>Boy</td>\n",
       "      <td>Boy</td>\n",
       "      <td>0.25</td>\n",
       "    </tr>\n",
       "    <tr>\n",
       "      <th>2</th>\n",
       "      <td>Girl</td>\n",
       "      <td>Girl</td>\n",
       "      <td>0.25</td>\n",
       "    </tr>\n",
       "    <tr>\n",
       "      <th>3</th>\n",
       "      <td>Boy</td>\n",
       "      <td>Girl</td>\n",
       "      <td>0.25</td>\n",
       "    </tr>\n",
       "  </tbody>\n",
       "</table>\n",
       "</div>"
      ],
      "text/plain": [
       "  Younger Child Older Child  Unconditional Probability\n",
       "0          Girl         Boy                       0.25\n",
       "1           Boy         Boy                       0.25\n",
       "2          Girl        Girl                       0.25\n",
       "3           Boy        Girl                       0.25"
      ]
     },
     "execution_count": 3,
     "metadata": {},
     "output_type": "execute_result"
    }
   ],
   "source": [
    "probs = [\n",
    "    ['Girl', 'Boy', 0.25],\n",
    "    ['Boy', 'Boy', 0.25],\n",
    "    ['Girl', 'Girl', 0.25],\n",
    "    ['Boy', 'Girl', 0.25]\n",
    "]\n",
    "\n",
    "df = DataFrame(probs, columns=['Younger Child', 'Older Child', 'Unconditional Probability']) \n",
    "df"
   ]
  },
  {
   "cell_type": "markdown",
   "metadata": {},
   "source": [
    "### Case 1: A woman has two children and the oldest is a boy. What is the probability of this woman having two sons?\n",
    "\n",
    "**Solution: use conditional probability.**\n",
    "\n",
    "**P(A given B) = P(A and B) / P(B)**\n",
    "\n",
    "**where:**\n",
    "\n",
    "* **Event A = \"2 boys\"**\n",
    "\n",
    "* **Event B = \"oldest is a boy\"**\n",
    "\n",
    "P(boy-boy | {boy-boy or girl-boy}) \n",
    "\n",
    "= P(boy-boy and {boy-boy or girl-boy}) / P({boy-boy or girl-boy})\n",
    "\n",
    "**Important: P(A and B) = P(A), if event A is a subset of event B.**\n",
    "\n",
    "**If A is a subset of B then A implies the occurrence of B.**\n",
    "\n",
    "**P(A and B) = P(A) * P(B) = P(A) * 1.0**\n",
    "\n",
    "= P(boy-boy) / P({boy-boy or girl-boy})\n",
    "\n",
    "= P(boy-boy) / (P(boy-boy) + P(girl-boy))\n",
    "\n",
    "= 0.25 / (0.25 + 0.25)\n",
    "\n",
    "= 0.25 / 0.5\n",
    "\n",
    "= 0.5\n"
   ]
  },
  {
   "cell_type": "markdown",
   "metadata": {},
   "source": [
    "### Case 2: A woman has two children and one of them is a boy. What is the probability of this woman having two sons?\n",
    "\n",
    "**Solution: again, use conditional probability.**\n",
    "\n",
    "**P(A given B) = P(A and B) / P(B)**\n",
    "\n",
    "**where:**\n",
    "\n",
    "* **Event A = \"2 boys\"**\n",
    "\n",
    "* **Event B = \"at least 1 boy\"**\n",
    "\n",
    "P(boy-boy | {boy-boy or girl-boy or boy-girl})\n",
    "\n",
    "= P(boy-boy and {boy-boy or girl-boy or boy-girl}) / P({boy-boy or girl-boy or boy-girl})\n",
    "\n",
    "= P(boy-boy) / P({boy-boy or girl-boy or boy-girl})\n",
    "\n",
    "= P(boy-boy) / (P(boy-boy) + P(girl-boy) + P(boy-girl))\n",
    "\n",
    "= 0.25 / (0.25 + 0.25 + 0.25)\n",
    "\n",
    "= 0.25 / 0.75\n",
    "\n",
    "= 0.333\n"
   ]
  },
  {
   "cell_type": "markdown",
   "metadata": {},
   "source": [
    "## 3. Monty Hall Problem"
   ]
  },
  {
   "cell_type": "markdown",
   "metadata": {},
   "source": [
    "**Problem:** The contestant is given a choice of three doors. Behind one is a car, behind the other two are goats. Once a door is chosen, the host, who knows where the car is, opens another door, which has a goat, and asks the contestant if they wish to keep their choice or change to the other unopened door."
   ]
  },
  {
   "cell_type": "markdown",
   "metadata": {},
   "source": [
    "### Solution 1:"
   ]
  },
  {
   "cell_type": "code",
   "execution_count": 4,
   "metadata": {},
   "outputs": [
    {
     "data": {
      "text/html": [
       "<div>\n",
       "<style scoped>\n",
       "    .dataframe tbody tr th:only-of-type {\n",
       "        vertical-align: middle;\n",
       "    }\n",
       "\n",
       "    .dataframe tbody tr th {\n",
       "        vertical-align: top;\n",
       "    }\n",
       "\n",
       "    .dataframe thead th {\n",
       "        text-align: right;\n",
       "    }\n",
       "</style>\n",
       "<table border=\"1\" class=\"dataframe\">\n",
       "  <thead>\n",
       "    <tr style=\"text-align: right;\">\n",
       "      <th></th>\n",
       "      <th>Door 1</th>\n",
       "      <th>Door 2</th>\n",
       "      <th>Door 3</th>\n",
       "      <th>Stay</th>\n",
       "      <th>Switch</th>\n",
       "    </tr>\n",
       "  </thead>\n",
       "  <tbody>\n",
       "    <tr>\n",
       "      <th>0</th>\n",
       "      <td>Goat</td>\n",
       "      <td>Goat</td>\n",
       "      <td>Car</td>\n",
       "      <td>Goat</td>\n",
       "      <td>Car</td>\n",
       "    </tr>\n",
       "    <tr>\n",
       "      <th>1</th>\n",
       "      <td>Goat</td>\n",
       "      <td>Car</td>\n",
       "      <td>Goat</td>\n",
       "      <td>Goat</td>\n",
       "      <td>Car</td>\n",
       "    </tr>\n",
       "    <tr>\n",
       "      <th>2</th>\n",
       "      <td>Car</td>\n",
       "      <td>Goat</td>\n",
       "      <td>Goat</td>\n",
       "      <td>Car</td>\n",
       "      <td>Goat</td>\n",
       "    </tr>\n",
       "  </tbody>\n",
       "</table>\n",
       "</div>"
      ],
      "text/plain": [
       "  Door 1 Door 2 Door 3  Stay Switch\n",
       "0   Goat   Goat    Car  Goat    Car\n",
       "1   Goat    Car   Goat  Goat    Car\n",
       "2    Car   Goat   Goat   Car   Goat"
      ]
     },
     "execution_count": 4,
     "metadata": {},
     "output_type": "execute_result"
    }
   ],
   "source": [
    "lst = [\n",
    "    ['Goat', 'Goat', 'Car', 'Goat', 'Car'], \n",
    "    ['Goat', 'Car', 'Goat', 'Goat', 'Car'], \n",
    "    ['Car', 'Goat', 'Goat', 'Car', 'Goat']\n",
    "]\n",
    "\n",
    "df = DataFrame(lst, columns=['Door 1', 'Door 2', 'Door 3', 'Stay', 'Switch']) \n",
    "df"
   ]
  },
  {
   "cell_type": "markdown",
   "metadata": {},
   "source": [
    "If the contestant first selects **door 1**, the host can open only door 2 or 3 containing a goat.\n",
    "\n",
    "We can see that 2/3 cases of switching result in winning a car (first two rows), and that 1/3 gives the car if we stay (final row).\n",
    "\n",
    "**Answer: The contestant has a 2/3 or 66.66% probability of winning the car if they switch.**"
   ]
  },
  {
   "cell_type": "markdown",
   "metadata": {},
   "source": [
    "### Solution 2: using joint probability.\n",
    "\n",
    "**1) Suppose that the contestant has chosen door 1.**\n",
    "\n",
    "**2) Calculate the probability of the host opening door 3 if door 1 has the car.**\n",
    "\n",
    "P(door1=car and door3=open)\n",
    "\n",
    "= P(door1=car) * P(door3=open)\n",
    "\n",
    "= 1/3 * 1/2\n",
    "\n",
    "= 1/6\n",
    "\n",
    "**3) Calculate the probability of the host opening door 3 if door 2 has the car.**\n",
    "\n",
    "P(door2=car and door3=open)\n",
    "\n",
    "= P(door2=car) * P(door3=open)\n",
    "\n",
    "= 1/3 * 1\n",
    "\n",
    "= 1/3\n",
    "\n",
    "**Answer: The probability is higher that the car is behind door 2 (about 33%) than door 1 (about 16%).**"
   ]
  },
  {
   "cell_type": "code",
   "execution_count": null,
   "metadata": {},
   "outputs": [],
   "source": []
  }
 ],
 "metadata": {
  "kernelspec": {
   "display_name": "Python 3",
   "language": "python",
   "name": "python3"
  },
  "language_info": {
   "codemirror_mode": {
    "name": "ipython",
    "version": 3
   },
   "file_extension": ".py",
   "mimetype": "text/x-python",
   "name": "python",
   "nbconvert_exporter": "python",
   "pygments_lexer": "ipython3",
   "version": "3.7.3"
  }
 },
 "nbformat": 4,
 "nbformat_minor": 4
}
